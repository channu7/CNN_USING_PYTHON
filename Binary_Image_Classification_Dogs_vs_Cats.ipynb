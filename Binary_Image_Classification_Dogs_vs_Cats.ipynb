{
  "nbformat": 4,
  "nbformat_minor": 0,
  "metadata": {
    "colab": {
      "name": "Image Classification Dogs vs Cats",
      "provenance": [],
      "collapsed_sections": [],
      "authorship_tag": "ABX9TyN7Z7sNFQom4feb6bUdlrVS",
      "include_colab_link": true
    },
    "kernelspec": {
      "name": "python3",
      "display_name": "Python 3"
    }
  },
  "cells": [
    {
      "cell_type": "markdown",
      "metadata": {
        "id": "view-in-github",
        "colab_type": "text"
      },
      "source": [
        "<a href=\"https://colab.research.google.com/github/Utkarsh87/Beginner-CNN-Projects/blob/master/Image_Classification_Dogs_vs_Cats.ipynb\" target=\"_parent\"><img src=\"https://colab.research.google.com/assets/colab-badge.svg\" alt=\"Open In Colab\"/></a>"
      ]
    },
    {
      "cell_type": "markdown",
      "metadata": {
        "id": "glt4DEiHlhov",
        "colab_type": "text"
      },
      "source": [
        "Using CNN to classify images as dog or cat, trained on a subset of the kaggle dataset with the same name."
      ]
    },
    {
      "cell_type": "code",
      "metadata": {
        "id": "GT91Ut9vwSE5",
        "colab_type": "code",
        "colab": {
          "base_uri": "https://localhost:8080/",
          "height": 217
        },
        "outputId": "5318696f-304d-447c-c873-04c77b08fa53"
      },
      "source": [
        "!wget --no-check-certificate \\\n",
        "    https://storage.googleapis.com/mledu-datasets/cats_and_dogs_filtered.zip \\\n",
        "    -O /tmp/cats_and_dogs_filtered.zip"
      ],
      "execution_count": 1,
      "outputs": [
        {
          "output_type": "stream",
          "text": [
            "--2020-03-29 09:59:51--  https://storage.googleapis.com/mledu-datasets/cats_and_dogs_filtered.zip\n",
            "Resolving storage.googleapis.com (storage.googleapis.com)... 172.217.204.128, 2607:f8b0:400c:c12::80\n",
            "Connecting to storage.googleapis.com (storage.googleapis.com)|172.217.204.128|:443... connected.\n",
            "HTTP request sent, awaiting response... 200 OK\n",
            "Length: 68606236 (65M) [application/zip]\n",
            "Saving to: ‘/tmp/cats_and_dogs_filtered.zip’\n",
            "\n",
            "\r          /tmp/cats   0%[                    ]       0  --.-KB/s               \r         /tmp/cats_  71%[=============>      ]  46.97M   234MB/s               \r/tmp/cats_and_dogs_ 100%[===================>]  65.43M   261MB/s    in 0.3s    \n",
            "\n",
            "2020-03-29 09:59:52 (261 MB/s) - ‘/tmp/cats_and_dogs_filtered.zip’ saved [68606236/68606236]\n",
            "\n"
          ],
          "name": "stdout"
        }
      ]
    },
    {
      "cell_type": "markdown",
      "metadata": {
        "id": "ih6Y6Ki_7Ikb",
        "colab_type": "text"
      },
      "source": [
        "Use the Kaggle Dogs vs Cats dataset, but only a subset of it(2000 out of 25000 images)"
      ]
    },
    {
      "cell_type": "code",
      "metadata": {
        "id": "v4lc3GDewifS",
        "colab_type": "code",
        "colab": {}
      },
      "source": [
        "import os\n",
        "import zipfile\n",
        "import cv2\n",
        "\n",
        "dir_zip = '/tmp/cats_and_dogs_filtered.zip'\n",
        "zip_ref = zipfile.ZipFile(dir_zip, 'r')\n",
        "zip_ref.extractall('/tmp')\n",
        "zip_ref.close()"
      ],
      "execution_count": 0,
      "outputs": []
    },
    {
      "cell_type": "markdown",
      "metadata": {
        "id": "ENrpxp6i8WXh",
        "colab_type": "text"
      },
      "source": [
        "This cell extracts contents out of the zipped file, base directory now contains sub-directories containing train and validation datasets"
      ]
    },
    {
      "cell_type": "code",
      "metadata": {
        "id": "e6r7zhOWwiq8",
        "colab_type": "code",
        "colab": {}
      },
      "source": [
        "base_dir = '/tmp/cats_and_dogs_filtered'\n",
        "train_dir = os.path.join(base_dir, 'train')\n",
        "validation_dir = os.path.join(base_dir, 'validation')\n",
        "\n",
        "# Further separate both datasets into cat and dog\n",
        "\n",
        "train_dir_dog = os.path.join(train_dir, 'dogs')\n",
        "train_dir_cat = os.path.join(train_dir, 'cats')\n",
        "validation_dir_dog = os.path.join(validation_dir, 'dogs')\n",
        "validation_dir_cat = os.path.join(validation_dir, 'cats')"
      ],
      "execution_count": 0,
      "outputs": []
    },
    {
      "cell_type": "code",
      "metadata": {
        "id": "zZJyXtMwwjDi",
        "colab_type": "code",
        "colab": {
          "base_uri": "https://localhost:8080/",
          "height": 90
        },
        "outputId": "1dc47c36-298f-428b-b17c-13796c843c38"
      },
      "source": [
        "print(\"Total training images for dogs: \", len(os.listdir(train_dir_dog)))\n",
        "print(\"Total training images for cats: \", len(os.listdir(train_dir_cat)))\n",
        "print(\"Total validation images for dogs: \", len(os.listdir(validation_dir_dog)))\n",
        "print(\"Total validation images for cats: \", len(os.listdir(validation_dir_cat)))"
      ],
      "execution_count": 21,
      "outputs": [
        {
          "output_type": "stream",
          "text": [
            "Total training images for dogs:  1000\n",
            "Total training images for cats:  1000\n",
            "Total validation images for dogs:  500\n",
            "Total validation images for cats:  500\n"
          ],
          "name": "stdout"
        }
      ]
    },
    {
      "cell_type": "markdown",
      "metadata": {
        "colab_type": "text",
        "id": "heYdduE0bVZW"
      },
      "source": [
        "1. Data preprocessing\n",
        "Data generators read images from source folder, convert them into tensors and feed them into the network.\n",
        "Two such data generators are set up, one each for training and validation datasets, they will yield batches of 20 images, each of size 80*80 .\n",
        "Normalisation is done using the rescale param.\n",
        "2. Data Augmentation\n",
        "Achieved by rotating, flipping, shearing transformations, random zooming into the pictures etc."
      ]
    },
    {
      "cell_type": "code",
      "metadata": {
        "id": "tXJeAW7oEQwB",
        "colab_type": "code",
        "colab": {
          "base_uri": "https://localhost:8080/",
          "height": 53
        },
        "outputId": "0cc627d3-5438-4778-e3de-040e3819cbc4"
      },
      "source": [
        "from tensorflow.keras.preprocessing.image import ImageDataGenerator\n",
        "\n",
        "# Normalise pixel values\n",
        "train_datagen = ImageDataGenerator(rescale=1./255,\n",
        "                                   rotation_range=40,\n",
        "                                   width_shift_range=0.2,\n",
        "                                   height_shift_range=0.2,\n",
        "                                   shear_range=0.2,\n",
        "                                   zoom_range=0.2,\n",
        "                                   fill_mode='nearest',\n",
        "                                   horizontal_flip=True,\n",
        "                                   vertical_flip=True)\n",
        "validation_datagen = ImageDataGenerator(rescale=1./255)\n",
        "\n",
        "train_gen = train_datagen.flow_from_directory(train_dir,\n",
        "                                              target_size=(80, 80),             #resizes training images to 80*80\n",
        "                                              batch_size=20,\n",
        "                                              class_mode='binary')\n",
        "validation_gen = validation_datagen.flow_from_directory(validation_dir,\n",
        "                                                        target_size=(80, 80),   #resizes validation images to 80*80\n",
        "                                                        batch_size=20,\n",
        "                                                        class_mode='binary')\n"
      ],
      "execution_count": 119,
      "outputs": [
        {
          "output_type": "stream",
          "text": [
            "Found 2000 images belonging to 2 classes.\n",
            "Found 1000 images belonging to 2 classes.\n"
          ],
          "name": "stdout"
        }
      ]
    },
    {
      "cell_type": "code",
      "metadata": {
        "id": "9GzUZsgWaV8N",
        "colab_type": "code",
        "colab": {
          "base_uri": "https://localhost:8080/",
          "height": 35
        },
        "outputId": "313377a6-1cd5-4b7a-94fd-16a93f540e52"
      },
      "source": [
        "print(train_gen)"
      ],
      "execution_count": 120,
      "outputs": [
        {
          "output_type": "stream",
          "text": [
            "<keras_preprocessing.image.directory_iterator.DirectoryIterator object at 0x7f92588be2e8>\n"
          ],
          "name": "stdout"
        }
      ]
    },
    {
      "cell_type": "code",
      "metadata": {
        "id": "BXpsSXXywjI6",
        "colab_type": "code",
        "colab": {
          "base_uri": "https://localhost:8080/",
          "height": 35
        },
        "outputId": "e93207a3-aa29-4655-e024-ebcb5aba8791"
      },
      "source": [
        "import tensorflow as tf\n",
        "from tensorflow.keras.models import Sequential\n",
        "from tensorflow.keras.layers import Conv2D, MaxPooling2D, Dense, Flatten, Dropout, BatchNormalization\n",
        "tf.__version__"
      ],
      "execution_count": 121,
      "outputs": [
        {
          "output_type": "execute_result",
          "data": {
            "text/plain": [
              "'2.2.0-rc1'"
            ]
          },
          "metadata": {
            "tags": []
          },
          "execution_count": 121
        }
      ]
    },
    {
      "cell_type": "markdown",
      "metadata": {
        "id": "QGYCXgj9Jp3k",
        "colab_type": "text"
      },
      "source": [
        "Build the model."
      ]
    },
    {
      "cell_type": "code",
      "metadata": {
        "id": "tIBg8Nw3wjL4",
        "colab_type": "code",
        "colab": {
          "base_uri": "https://localhost:8080/",
          "height": 780
        },
        "outputId": "693b800a-63a4-40e9-c3f5-2838578538c3"
      },
      "source": [
        "model = Sequential()\n",
        "model.add(Conv2D(32, (3, 3), activation='elu', use_bias=True, input_shape=(80, 80, 3)))\n",
        "model.add(BatchNormalization())\n",
        "model.add(MaxPooling2D((2, 2)))\n",
        "model.add(Dropout(0.2))\n",
        "\n",
        "model.add(Conv2D(64, (3, 3), activation='elu', use_bias=True))\n",
        "model.add(BatchNormalization())\n",
        "model.add(MaxPooling2D(2, 2))\n",
        "model.add(Dropout(0.3))\n",
        "\n",
        "model.add(Conv2D(128, (3, 3), activation='elu', use_bias=True))\n",
        "model.add(BatchNormalization())\n",
        "model.add(MaxPooling2D(2, 2))\n",
        "model.add(Dropout(0.4))\n",
        "\n",
        "model.add(Flatten())\n",
        "\n",
        "model.add(Dense(512, activation='elu'))\n",
        "model.add(BatchNormalization())\n",
        "model.add(Dropout(0.5))\n",
        "\n",
        "model.add(Dense(1, activation='sigmoid'))\n",
        "\n",
        "model.summary()"
      ],
      "execution_count": 129,
      "outputs": [
        {
          "output_type": "stream",
          "text": [
            "Model: \"sequential_33\"\n",
            "_________________________________________________________________\n",
            "Layer (type)                 Output Shape              Param #   \n",
            "=================================================================\n",
            "conv2d_96 (Conv2D)           (None, 78, 78, 32)        896       \n",
            "_________________________________________________________________\n",
            "batch_normalization_127 (Bat (None, 78, 78, 32)        128       \n",
            "_________________________________________________________________\n",
            "max_pooling2d_95 (MaxPooling (None, 39, 39, 32)        0         \n",
            "_________________________________________________________________\n",
            "dropout_127 (Dropout)        (None, 39, 39, 32)        0         \n",
            "_________________________________________________________________\n",
            "conv2d_97 (Conv2D)           (None, 37, 37, 64)        18496     \n",
            "_________________________________________________________________\n",
            "batch_normalization_128 (Bat (None, 37, 37, 64)        256       \n",
            "_________________________________________________________________\n",
            "max_pooling2d_96 (MaxPooling (None, 18, 18, 64)        0         \n",
            "_________________________________________________________________\n",
            "dropout_128 (Dropout)        (None, 18, 18, 64)        0         \n",
            "_________________________________________________________________\n",
            "conv2d_98 (Conv2D)           (None, 16, 16, 128)       73856     \n",
            "_________________________________________________________________\n",
            "batch_normalization_129 (Bat (None, 16, 16, 128)       512       \n",
            "_________________________________________________________________\n",
            "max_pooling2d_97 (MaxPooling (None, 8, 8, 128)         0         \n",
            "_________________________________________________________________\n",
            "dropout_129 (Dropout)        (None, 8, 8, 128)         0         \n",
            "_________________________________________________________________\n",
            "flatten_32 (Flatten)         (None, 8192)              0         \n",
            "_________________________________________________________________\n",
            "dense_64 (Dense)             (None, 512)               4194816   \n",
            "_________________________________________________________________\n",
            "batch_normalization_130 (Bat (None, 512)               2048      \n",
            "_________________________________________________________________\n",
            "dropout_130 (Dropout)        (None, 512)               0         \n",
            "_________________________________________________________________\n",
            "dense_65 (Dense)             (None, 1)                 513       \n",
            "=================================================================\n",
            "Total params: 4,291,521\n",
            "Trainable params: 4,290,049\n",
            "Non-trainable params: 1,472\n",
            "_________________________________________________________________\n"
          ],
          "name": "stdout"
        }
      ]
    },
    {
      "cell_type": "code",
      "metadata": {
        "id": "xIYQgfOJwjY8",
        "colab_type": "code",
        "colab": {}
      },
      "source": [
        "opt = tf.keras.optimizers.SGD(learning_rate=0.005, momentum=0.0001, nesterov=True, name='SGD', clipvalue=0.5)\n",
        "# loss = tf.keras.losses.binary_crossentropy(label_smoothing=0.2)\n",
        "\n",
        "model.compile(optimizer=opt, loss='binary_crossentropy', metrics=['accuracy'])"
      ],
      "execution_count": 0,
      "outputs": []
    },
    {
      "cell_type": "markdown",
      "metadata": {
        "id": "AMQESupOK4Ql",
        "colab_type": "text"
      },
      "source": [
        "Fit the training data"
      ]
    },
    {
      "cell_type": "code",
      "metadata": {
        "id": "O_WsyY87K7lp",
        "colab_type": "code",
        "colab": {}
      },
      "source": [
        "epochs = 30"
      ],
      "execution_count": 0,
      "outputs": []
    },
    {
      "cell_type": "code",
      "metadata": {
        "id": "iooj6GJXwjap",
        "colab_type": "code",
        "colab": {
          "base_uri": "https://localhost:8080/",
          "height": 1000
        },
        "outputId": "401ee5fe-9913-4a19-e77f-b17f75213b94"
      },
      "source": [
        "callbacks = [tf.keras.callbacks.ReduceLROnPlateau(monitor='val_loss', factor=0.2, patience=5, mode='auto', min_lr=1e-5)]\n",
        "history = model.fit(train_gen, epochs=epochs, steps_per_epoch=100, callbacks=callbacks, validation_data=validation_gen, validation_steps=50, verbose=1)"
      ],
      "execution_count": 132,
      "outputs": [
        {
          "output_type": "stream",
          "text": [
            "Epoch 1/30\n",
            "100/100 [==============================] - 47s 473ms/step - loss: 0.9884 - accuracy: 0.5220 - val_loss: 0.7624 - val_accuracy: 0.5010 - lr: 0.0050\n",
            "Epoch 2/30\n",
            "100/100 [==============================] - 47s 470ms/step - loss: 0.9050 - accuracy: 0.5400 - val_loss: 0.9317 - val_accuracy: 0.5030 - lr: 0.0050\n",
            "Epoch 3/30\n",
            "100/100 [==============================] - 47s 467ms/step - loss: 0.8157 - accuracy: 0.5615 - val_loss: 0.7048 - val_accuracy: 0.5630 - lr: 0.0050\n",
            "Epoch 4/30\n",
            "100/100 [==============================] - 47s 473ms/step - loss: 0.7778 - accuracy: 0.5660 - val_loss: 0.6725 - val_accuracy: 0.5870 - lr: 0.0050\n",
            "Epoch 5/30\n",
            "100/100 [==============================] - 47s 474ms/step - loss: 0.7527 - accuracy: 0.5600 - val_loss: 0.6569 - val_accuracy: 0.5930 - lr: 0.0050\n",
            "Epoch 6/30\n",
            "100/100 [==============================] - 47s 474ms/step - loss: 0.7135 - accuracy: 0.5690 - val_loss: 0.6495 - val_accuracy: 0.6010 - lr: 0.0050\n",
            "Epoch 7/30\n",
            "100/100 [==============================] - 47s 471ms/step - loss: 0.7125 - accuracy: 0.5755 - val_loss: 0.6350 - val_accuracy: 0.6230 - lr: 0.0050\n",
            "Epoch 8/30\n",
            "100/100 [==============================] - 48s 476ms/step - loss: 0.6896 - accuracy: 0.5940 - val_loss: 0.6457 - val_accuracy: 0.6100 - lr: 0.0050\n",
            "Epoch 9/30\n",
            "100/100 [==============================] - 47s 471ms/step - loss: 0.6714 - accuracy: 0.5970 - val_loss: 0.6283 - val_accuracy: 0.6310 - lr: 0.0050\n",
            "Epoch 10/30\n",
            "100/100 [==============================] - 47s 473ms/step - loss: 0.6858 - accuracy: 0.5850 - val_loss: 0.6122 - val_accuracy: 0.6510 - lr: 0.0050\n",
            "Epoch 11/30\n",
            "100/100 [==============================] - 47s 472ms/step - loss: 0.6723 - accuracy: 0.5855 - val_loss: 0.6148 - val_accuracy: 0.6680 - lr: 0.0050\n",
            "Epoch 12/30\n",
            "100/100 [==============================] - 47s 471ms/step - loss: 0.6659 - accuracy: 0.6075 - val_loss: 0.6317 - val_accuracy: 0.6420 - lr: 0.0050\n",
            "Epoch 13/30\n",
            "100/100 [==============================] - 48s 475ms/step - loss: 0.6794 - accuracy: 0.5780 - val_loss: 0.6145 - val_accuracy: 0.6410 - lr: 0.0050\n",
            "Epoch 14/30\n",
            "100/100 [==============================] - 47s 471ms/step - loss: 0.6601 - accuracy: 0.6090 - val_loss: 0.6422 - val_accuracy: 0.6180 - lr: 0.0050\n",
            "Epoch 15/30\n",
            "100/100 [==============================] - 47s 473ms/step - loss: 0.6507 - accuracy: 0.6170 - val_loss: 0.6163 - val_accuracy: 0.6380 - lr: 0.0050\n",
            "Epoch 16/30\n",
            "100/100 [==============================] - 48s 482ms/step - loss: 0.6643 - accuracy: 0.5965 - val_loss: 0.6045 - val_accuracy: 0.6540 - lr: 1.0000e-03\n",
            "Epoch 17/30\n",
            "100/100 [==============================] - 48s 480ms/step - loss: 0.6554 - accuracy: 0.6135 - val_loss: 0.6242 - val_accuracy: 0.6300 - lr: 1.0000e-03\n",
            "Epoch 18/30\n",
            "100/100 [==============================] - 48s 479ms/step - loss: 0.6549 - accuracy: 0.6195 - val_loss: 0.6189 - val_accuracy: 0.6440 - lr: 1.0000e-03\n",
            "Epoch 19/30\n",
            "100/100 [==============================] - 48s 477ms/step - loss: 0.6556 - accuracy: 0.6170 - val_loss: 0.6237 - val_accuracy: 0.6320 - lr: 1.0000e-03\n",
            "Epoch 20/30\n",
            "100/100 [==============================] - 48s 477ms/step - loss: 0.6555 - accuracy: 0.6080 - val_loss: 0.6242 - val_accuracy: 0.6540 - lr: 1.0000e-03\n",
            "Epoch 21/30\n",
            "100/100 [==============================] - 49s 485ms/step - loss: 0.6542 - accuracy: 0.6165 - val_loss: 0.6079 - val_accuracy: 0.6540 - lr: 1.0000e-03\n",
            "Epoch 22/30\n",
            "100/100 [==============================] - 48s 480ms/step - loss: 0.6524 - accuracy: 0.6240 - val_loss: 0.6062 - val_accuracy: 0.6570 - lr: 2.0000e-04\n",
            "Epoch 23/30\n",
            "100/100 [==============================] - 48s 477ms/step - loss: 0.6571 - accuracy: 0.6050 - val_loss: 0.6221 - val_accuracy: 0.6420 - lr: 2.0000e-04\n",
            "Epoch 24/30\n",
            "100/100 [==============================] - 47s 470ms/step - loss: 0.6513 - accuracy: 0.6150 - val_loss: 0.6099 - val_accuracy: 0.6590 - lr: 2.0000e-04\n",
            "Epoch 25/30\n",
            "100/100 [==============================] - 47s 470ms/step - loss: 0.6494 - accuracy: 0.6285 - val_loss: 0.6188 - val_accuracy: 0.6370 - lr: 2.0000e-04\n",
            "Epoch 26/30\n",
            "100/100 [==============================] - 48s 476ms/step - loss: 0.6455 - accuracy: 0.6035 - val_loss: 0.6212 - val_accuracy: 0.6450 - lr: 2.0000e-04\n",
            "Epoch 27/30\n",
            "100/100 [==============================] - 47s 475ms/step - loss: 0.6561 - accuracy: 0.6140 - val_loss: 0.6132 - val_accuracy: 0.6510 - lr: 4.0000e-05\n",
            "Epoch 28/30\n",
            "100/100 [==============================] - 48s 483ms/step - loss: 0.6462 - accuracy: 0.6120 - val_loss: 0.6131 - val_accuracy: 0.6560 - lr: 4.0000e-05\n",
            "Epoch 29/30\n",
            "100/100 [==============================] - 49s 490ms/step - loss: 0.6515 - accuracy: 0.6095 - val_loss: 0.6169 - val_accuracy: 0.6530 - lr: 4.0000e-05\n",
            "Epoch 30/30\n",
            "100/100 [==============================] - 49s 493ms/step - loss: 0.6592 - accuracy: 0.6115 - val_loss: 0.6271 - val_accuracy: 0.6370 - lr: 4.0000e-05\n"
          ],
          "name": "stdout"
        }
      ]
    },
    {
      "cell_type": "markdown",
      "metadata": {
        "id": "0z9TD6FHmJWY",
        "colab_type": "text"
      },
      "source": [
        "Visualise training and validation loss and accuracy"
      ]
    },
    {
      "cell_type": "code",
      "metadata": {
        "id": "mAmhSZtNwjd9",
        "colab_type": "code",
        "colab": {
          "base_uri": "https://localhost:8080/",
          "height": 563
        },
        "outputId": "b38ca360-b80e-45e6-fa1d-cff4c804f0a8"
      },
      "source": [
        "import matplotlib.pyplot as plt\n",
        "\n",
        "acc = history.history['accuracy']\n",
        "val_acc = history.history['val_accuracy']\n",
        "loss = history.history['loss']\n",
        "val_loss = history.history['val_loss']\n",
        "\n",
        "epochs = range(len(acc))\n",
        "\n",
        "# Plot retrieved data\n",
        "plt.plot(epochs, acc)\n",
        "plt.plot(epochs, val_acc)\n",
        "plt.title(\"Training and Validation Accuracy\")\n",
        "\n",
        "plt.figure()\n",
        "\n",
        "plt.plot(epochs, loss)\n",
        "plt.plot(epochs, val_loss)\n",
        "plt.title(\"Training and Validaiton loss per epoch\")"
      ],
      "execution_count": 133,
      "outputs": [
        {
          "output_type": "execute_result",
          "data": {
            "text/plain": [
              "Text(0.5, 1.0, 'Training and Validaiton loss per epoch')"
            ]
          },
          "metadata": {
            "tags": []
          },
          "execution_count": 133
        },
        {
          "output_type": "display_data",
          "data": {
            "image/png": "[encoded data removed]",
            "text/plain": [
              "<Figure size 432x288 with 1 Axes>"
            ]
          },
          "metadata": {
            "tags": []
          }
        },
        {
          "output_type": "display_data",
          "data": {
            "image/png": "[encoded data removed]",
            "text/plain": [
              "<Figure size 432x288 with 1 Axes>"
            ]
          },
          "metadata": {
            "tags": []
          }
        }
      ]
    },
    {
      "cell_type": "code",
      "metadata": {
        "id": "UM9sAwuawjgU",
        "colab_type": "code",
        "colab": {
          "base_uri": "https://localhost:8080/",
          "height": 53
        },
        "outputId": "d3a0fdf7-cdf2-4c41-f5e2-e4550bbe86f3"
      },
      "source": [
        "# Top 5 metrics\n",
        "\n",
        "from statistics import mean\n",
        "\n",
        "val_acc.sort()\n",
        "top5val_acc = val_acc[-5:]\n",
        "val_loss.sort()\n",
        "top5val_loss = val_loss[:5]\n",
        "\n",
        "print(\"Top 5 validation accuracy: \",mean(top5val_acc))\n",
        "print(\"Top 5 validation loss: \", mean(top5val_loss))"
      ],
      "execution_count": 144,
      "outputs": [
        {
          "output_type": "stream",
          "text": [
            "Top 5 validation accuracy:  0.6587999939918519\n",
            "Top 5 validation loss:  0.6081268310546875\n"
          ],
          "name": "stdout"
        }
      ]
    }
  ]
}