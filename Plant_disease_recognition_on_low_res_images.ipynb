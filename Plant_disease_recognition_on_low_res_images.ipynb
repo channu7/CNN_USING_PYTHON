{
  "nbformat": 4,
  "nbformat_minor": 0,
  "metadata": {
    "colab": {
      "name": "Plant disease recognition on low res images.ipynb",
      "provenance": [],
      "collapsed_sections": [],
      "authorship_tag": "ABX9TyM4eJcCUOnMT9dE6wRG/PU0",
      "include_colab_link": true
    },
    "kernelspec": {
      "name": "python3",
      "display_name": "Python 3"
    },
    "accelerator": "GPU"
  },
  "cells": [
    {
      "cell_type": "markdown",
      "metadata": {
        "id": "view-in-github",
        "colab_type": "text"
      },
      "source": [
        "<a href=\"https://colab.research.google.com/github/Utkarsh87/Beginner-CNN-Projects/blob/master/Plant_disease_recognition_on_low_res_images.ipynb\" target=\"_parent\"><img src=\"https://colab.research.google.com/assets/colab-badge.svg\" alt=\"Open In Colab\"/></a>"
      ]
    },
    {
      "cell_type": "markdown",
      "metadata": {
        "id": "fLxdy5MGCVyK",
        "colab_type": "text"
      },
      "source": [
        "This project was done as a part of the AICrowd Blitz 2020 competition.\n",
        "\n",
        "https://www.aicrowd.com/challenges/aicrowd-blitz-may-2020/problems/minileaves\n",
        "\n",
        "This was my first entry for this problem and it achieved a 0.977 F1 score and 0.984 accuracy score and was the 3rd best submission at the time of writing.\n",
        "\n",
        "https://www.aicrowd.com/challenges/aicrowd-blitz-may-2020/problems/minileaves/submissions/63818"
      ]
    },
    {
      "cell_type": "code",
      "metadata": {
        "id": "_pzjpR3zQJcW",
        "colab_type": "code",
        "colab": {}
      },
      "source": [
        "import numpy as np\n",
        "import pandas as pd\n",
        "import sklearn"
      ],
      "execution_count": 0,
      "outputs": []
    },
    {
      "cell_type": "code",
      "metadata": {
        "id": "0xSmnz4bRQ5o",
        "colab_type": "code",
        "colab": {
          "base_uri": "https://localhost:8080/",
          "height": 816
        },
        "outputId": "e8c117e8-5b88-43d7-adfa-df6bfb685886"
      },
      "source": [
        "#Donwload the datasets\n",
        "!wget https://s3.eu-central-1.wasabisys.com/aicrowd-practice-challenges/public/minileaves/v0.1/train-images.npy\n",
        "!wget https://s3.eu-central-1.wasabisys.com/aicrowd-practice-challenges/public/minileaves/v0.1/train-labels.npy\n",
        "!wget https://s3.eu-central-1.wasabisys.com/aicrowd-practice-challenges/public/minileaves/v0.1/test-images.npy\n",
        "!wget https://s3.eu-central-1.wasabisys.com/aicrowd-practice-challenges/public/minileaves/v0.1/all_classes.txt"
      ],
      "execution_count": 32,
      "outputs": [
        {
          "output_type": "stream",
          "text": [
            "--2020-05-05 16:49:57--  https://s3.eu-central-1.wasabisys.com/aicrowd-practice-challenges/public/minileaves/v0.1/train-images.npy\n",
            "Resolving s3.eu-central-1.wasabisys.com (s3.eu-central-1.wasabisys.com)... 130.117.252.12, 130.117.252.11, 130.117.252.10, ...\n",
            "Connecting to s3.eu-central-1.wasabisys.com (s3.eu-central-1.wasabisys.com)|130.117.252.12|:443... connected.\n",
            "HTTP request sent, awaiting response... 200 OK\n",
            "Length: 133527680 (127M) [binary/octet-stream]\n",
            "Saving to: ‘train-images.npy.1’\n",
            "\n",
            "train-images.npy.1  100%[===================>] 127.34M  27.7MB/s    in 5.5s    \n",
            "\n",
            "2020-05-05 16:50:03 (23.4 MB/s) - ‘train-images.npy.1’ saved [133527680/133527680]\n",
            "\n",
            "--2020-05-05 16:50:05--  https://s3.eu-central-1.wasabisys.com/aicrowd-practice-challenges/public/minileaves/v0.1/train-labels.npy\n",
            "Resolving s3.eu-central-1.wasabisys.com (s3.eu-central-1.wasabisys.com)... 130.117.252.12, 130.117.252.11, 130.117.252.10, ...\n",
            "Connecting to s3.eu-central-1.wasabisys.com (s3.eu-central-1.wasabisys.com)|130.117.252.12|:443... connected.\n",
            "HTTP request sent, awaiting response... 200 OK\n",
            "Length: 347856 (340K) [binary/octet-stream]\n",
            "Saving to: ‘train-labels.npy.1’\n",
            "\n",
            "train-labels.npy.1  100%[===================>] 339.70K   782KB/s    in 0.4s    \n",
            "\n",
            "2020-05-05 16:50:06 (782 KB/s) - ‘train-labels.npy.1’ saved [347856/347856]\n",
            "\n",
            "--2020-05-05 16:50:08--  https://s3.eu-central-1.wasabisys.com/aicrowd-practice-challenges/public/minileaves/v0.1/test-images.npy\n",
            "Resolving s3.eu-central-1.wasabisys.com (s3.eu-central-1.wasabisys.com)... 130.117.252.12, 130.117.252.11, 130.117.252.10, ...\n",
            "Connecting to s3.eu-central-1.wasabisys.com (s3.eu-central-1.wasabisys.com)|130.117.252.12|:443... connected.\n",
            "HTTP request sent, awaiting response... 200 OK\n",
            "Length: 33294464 (32M) [binary/octet-stream]\n",
            "Saving to: ‘test-images.npy.1’\n",
            "\n",
            "test-images.npy.1   100%[===================>]  31.75M  16.3MB/s    in 1.9s    \n",
            "\n",
            "2020-05-05 16:50:10 (16.3 MB/s) - ‘test-images.npy.1’ saved [33294464/33294464]\n",
            "\n",
            "--2020-05-05 16:50:12--  https://s3.eu-central-1.wasabisys.com/aicrowd-practice-challenges/public/minileaves/v0.1/all_classes.txt\n",
            "Resolving s3.eu-central-1.wasabisys.com (s3.eu-central-1.wasabisys.com)... 130.117.252.12, 130.117.252.11, 130.117.252.10, ...\n",
            "Connecting to s3.eu-central-1.wasabisys.com (s3.eu-central-1.wasabisys.com)|130.117.252.12|:443... connected.\n",
            "HTTP request sent, awaiting response... 200 OK\n",
            "Length: 886 [text/plain]\n",
            "Saving to: ‘all_classes.txt.1’\n",
            "\n",
            "all_classes.txt.1   100%[===================>]     886  --.-KB/s    in 0s      \n",
            "\n",
            "2020-05-05 16:50:12 (14.6 MB/s) - ‘all_classes.txt.1’ saved [886/886]\n",
            "\n"
          ],
          "name": "stdout"
        }
      ]
    },
    {
      "cell_type": "markdown",
      "metadata": {
        "id": "TONCByM1S5Jz",
        "colab_type": "text"
      },
      "source": [
        "Load the dataset"
      ]
    },
    {
      "cell_type": "code",
      "metadata": {
        "id": "rSKn0prDRcaK",
        "colab_type": "code",
        "colab": {}
      },
      "source": [
        "train_images = np.load('train-images.npy')\n",
        "train_labels = np.load('train-labels.npy')\n",
        "test_images = np.load('test-images.npy')\n",
        "\n",
        "# Load the class-mapping to the images\n",
        "class_names = [x.strip() for x in open(\"all_classes.txt\").readlines()]"
      ],
      "execution_count": 0,
      "outputs": []
    },
    {
      "cell_type": "code",
      "metadata": {
        "id": "Jn0kcRpxTTtv",
        "colab_type": "code",
        "colab": {
          "base_uri": "https://localhost:8080/",
          "height": 72
        },
        "outputId": "aa57f633-7e95-4ca6-ce25-8051f650099b"
      },
      "source": [
        "print(\"Train images: \", train_images.shape)\n",
        "print(\"Train labels: \", train_labels.shape)\n",
        "print(\"Test images: \", test_images.shape)\n",
        "# print(train_images[0].shape) # each image is 32*32 pixels and 3 colour channels\n",
        "\n",
        "# Cannot grayscale the images as the colour of the leaf might be one of the indicators of its health."
      ],
      "execution_count": 34,
      "outputs": [
        {
          "output_type": "stream",
          "text": [
            "Train images:  (43466, 32, 32, 3)\n",
            "Train labels:  (43466,)\n",
            "Test images:  (10838, 32, 32, 3)\n"
          ],
          "name": "stdout"
        }
      ]
    },
    {
      "cell_type": "markdown",
      "metadata": {
        "id": "pL3Yaql98c5R",
        "colab_type": "text"
      },
      "source": [
        "Map the classes to their class index"
      ]
    },
    {
      "cell_type": "code",
      "metadata": {
        "id": "JmNqgWH0T0oZ",
        "colab_type": "code",
        "colab": {
          "base_uri": "https://localhost:8080/",
          "height": 55
        },
        "outputId": "49ee106d-17f8-47e2-dadb-c5e0c30752b3"
      },
      "source": [
        "labels_map = {class_names[i]:i for i in range(len(class_names))}\n",
        "inv_labels_map = {i:class_names[i] for i in range(len(class_names))}\n",
        "print(labels_map)"
      ],
      "execution_count": 35,
      "outputs": [
        {
          "output_type": "stream",
          "text": [
            "{'apple-apple-scab': 0, 'apple-black-rot': 1, 'apple-cedar-apple-rust': 2, 'apple-healthy': 3, 'blueberry-healthy': 4, 'cherry-including-sour-healthy': 5, 'cherry-including-sour-powdery-mildew': 6, 'corn-maize-cercospora-leaf-spot-gray-leaf-spot': 7, 'corn-maize-common-rust': 8, 'corn-maize-healthy': 9, 'corn-maize-northern-leaf-blight': 10, 'grape-black-rot': 11, 'grape-esca-black-measles': 12, 'grape-healthy': 13, 'grape-leaf-blight-isariopsis-leaf-spot': 14, 'orange-haunglongbing-citrus-greening': 15, 'peach-bacterial-spot': 16, 'peach-healthy': 17, 'pepper-bell-bacterial-spot': 18, 'pepper-bell-healthy': 19, 'potato-early-blight': 20, 'potato-healthy': 21, 'potato-late-blight': 22, 'raspberry-healthy': 23, 'soybean-healthy': 24, 'squash-powdery-mildew': 25, 'strawberry-healthy': 26, 'strawberry-leaf-scorch': 27, 'tomato-bacterial-spot': 28, 'tomato-early-blight': 29, 'tomato-healthy': 30, 'tomato-late-blight': 31, 'tomato-leaf-mold': 32, 'tomato-septoria-leaf-spot': 33, 'tomato-spider-mites-two-spotted-spider-mite': 34, 'tomato-target-spot': 35, 'tomato-tomato-mosaic-virus': 36, 'tomato-tomato-yellow-leaf-curl-virus': 37}\n"
          ],
          "name": "stdout"
        }
      ]
    },
    {
      "cell_type": "code",
      "metadata": {
        "id": "Rs5yBsEgXV-n",
        "colab_type": "code",
        "colab": {
          "base_uri": "https://localhost:8080/",
          "height": 1000
        },
        "outputId": "16e22756-4bbe-488b-b254-98f2dc897ab3"
      },
      "source": [
        "import matplotlib.pyplot as plt\n",
        "\n",
        "# See the first few images\n",
        "for i in range(10):\n",
        "  plt.imshow(train_images[i])\n",
        "  plt.show()\n",
        "\n",
        "# We can clearly see the images are very low-resolution, as one would expect out of 32*32 images."
      ],
      "execution_count": 36,
      "outputs": [
        {
          "output_type": "display_data",
          "data": {
            "image/png": "[encoded data removed]",
            "text/plain": [
              "<Figure size 432x288 with 1 Axes>"
            ]
          },
          "metadata": {
            "tags": [],
            "needs_background": "light"
          }
        },
        {
          "output_type": "display_data",
          "data": {
            "image/png": "[encoded data removed]",
            "text/plain": [
              "<Figure size 432x288 with 1 Axes>"
            ]
          },
          "metadata": {
            "tags": [],
            "needs_background": "light"
          }
        },
        {
          "output_type": "display_data",
          "data": {
            "image/png": "[encoded data removed]",
            "text/plain": [
              "<Figure size 432x288 with 1 Axes>"
            ]
          },
          "metadata": {
            "tags": [],
            "needs_background": "light"
          }
        },
        {
          "output_type": "display_data",
          "data": {
            "image/png": "[encoded data removed]",
            "text/plain": [
              "<Figure size 432x288 with 1 Axes>"
            ]
          },
          "metadata": {
            "tags": [],
            "needs_background": "light"
          }
        },
        {
          "output_type": "display_data",
          "data": {
            "image/png": "[encoded data removed]",
            "text/plain": [
              "<Figure size 432x288 with 1 Axes>"
            ]
          },
          "metadata": {
            "tags": [],
            "needs_background": "light"
          }
        },
        {
          "output_type": "display_data",
          "data": {
            "image/png": "[encoded data removed]",
            "text/plain": [
              "<Figure size 432x288 with 1 Axes>"
            ]
          },
          "metadata": {
            "tags": [],
            "needs_background": "light"
          }
        },
        {
          "output_type": "display_data",
          "data": {
            "image/png": "[encoded data removed]",
            "text/plain": [
              "<Figure size 432x288 with 1 Axes>"
            ]
          },
          "metadata": {
            "tags": [],
            "needs_background": "light"
          }
        },
        {
          "output_type": "display_data",
          "data": {
            "image/png": "[encoded data removed]",
            "text/plain": [
              "<Figure size 432x288 with 1 Axes>"
            ]
          },
          "metadata": {
            "tags": [],
            "needs_background": "light"
          }
        },
        {
          "output_type": "display_data",
          "data": {
            "image/png": "[encoded data removed]",
            "text/plain": [
              "<Figure size 432x288 with 1 Axes>"
            ]
          },
          "metadata": {
            "tags": [],
            "needs_background": "light"
          }
        },
        {
          "output_type": "display_data",
          "data": {
            "image/png": "[encoded data removed]",
            "text/plain": [
              "<Figure size 432x288 with 1 Axes>"
            ]
          },
          "metadata": {
            "tags": [],
            "needs_background": "light"
          }
        }
      ]
    },
    {
      "cell_type": "markdown",
      "metadata": {
        "id": "oIZesH68wDHI",
        "colab_type": "text"
      },
      "source": [
        "Convert labels to one-hot vectors(to be able to use the appropriate loss metrics)"
      ]
    },
    {
      "cell_type": "code",
      "metadata": {
        "id": "_Yhobi6HwGyM",
        "colab_type": "code",
        "colab": {}
      },
      "source": [
        "from keras.utils import to_categorical   \n",
        "\n",
        "train_labels = to_categorical(train_labels, num_classes=38)"
      ],
      "execution_count": 0,
      "outputs": []
    },
    {
      "cell_type": "markdown",
      "metadata": {
        "id": "bN3nXfY5uKk5",
        "colab_type": "text"
      },
      "source": [
        "Normalize the pixel values"
      ]
    },
    {
      "cell_type": "code",
      "metadata": {
        "id": "CE8CvgKnddC1",
        "colab_type": "code",
        "colab": {}
      },
      "source": [
        "train_images = train_images.astype(np.float32)/255.0"
      ],
      "execution_count": 0,
      "outputs": []
    },
    {
      "cell_type": "markdown",
      "metadata": {
        "id": "Oa9w-FRxuQVZ",
        "colab_type": "text"
      },
      "source": [
        "Separate out training and validation data"
      ]
    },
    {
      "cell_type": "code",
      "metadata": {
        "id": "6UjyxETRsf8E",
        "colab_type": "code",
        "colab": {}
      },
      "source": [
        "from sklearn.model_selection import train_test_split\n",
        "\n",
        "x_train, x_val, y_train, y_val = train_test_split(train_images, train_labels, test_size=0.2, random_state = 42)"
      ],
      "execution_count": 0,
      "outputs": []
    },
    {
      "cell_type": "markdown",
      "metadata": {
        "id": "YVHbsEpJ8Qla",
        "colab_type": "text"
      },
      "source": [
        "Perform some basic data augmentation"
      ]
    },
    {
      "cell_type": "code",
      "metadata": {
        "id": "bv1-H1Zmswxx",
        "colab_type": "code",
        "colab": {}
      },
      "source": [
        "from keras.preprocessing.image import ImageDataGenerator\n",
        "\n",
        "aug = ImageDataGenerator(\n",
        "    rotation_range=25, width_shift_range=0.1,\n",
        "    height_shift_range=0.1, shear_range=0.2, \n",
        "    zoom_range=0.2,horizontal_flip=True, \n",
        "    fill_mode=\"nearest\")"
      ],
      "execution_count": 0,
      "outputs": []
    },
    {
      "cell_type": "markdown",
      "metadata": {
        "id": "ngOlEKoI8MtL",
        "colab_type": "text"
      },
      "source": [
        "Define the model"
      ]
    },
    {
      "cell_type": "code",
      "metadata": {
        "id": "ZlGpwBP8bjZV",
        "colab_type": "code",
        "colab": {}
      },
      "source": [
        "from tensorflow.keras.layers import Conv2D, Flatten, Dropout, Dense, MaxPooling2D, BatchNormalization\n",
        "from tensorflow.keras.models import Sequential"
      ],
      "execution_count": 0,
      "outputs": []
    },
    {
      "cell_type": "code",
      "metadata": {
        "id": "cSIXa1DbcSRn",
        "colab_type": "code",
        "colab": {
          "base_uri": "https://localhost:8080/",
          "height": 1000
        },
        "outputId": "b6c94c7b-047d-4da0-dc71-6be7596bb3ac"
      },
      "source": [
        "model = Sequential()\n",
        "\n",
        "model.add(Conv2D(32, (3, 3), activation='elu', padding='same', use_bias=True, input_shape=(32, 32, 3)))\n",
        "# model.add(BatchNormalization())\n",
        "model.add(Conv2D(64, (3, 3), activation='elu', padding='same', use_bias=True))\n",
        "# model.add(BatchNormalization())\n",
        "# model.add(Conv2D(64, (3, 3), activation='elu', padding='same', use_bias=True))\n",
        "model.add(BatchNormalization())\n",
        "model.add(MaxPooling2D((2, 2)))\n",
        "model.add(Dropout(0.30))\n",
        "\n",
        "model.add(Conv2D(64, (3, 3), activation='elu', padding='same', use_bias=True))\n",
        "# model.add(BatchNormalization())\n",
        "model.add(Conv2D(128, (3, 3), activation='elu', padding='same', use_bias=True))\n",
        "# model.add(BatchNormalization())\n",
        "# model.add(Conv2D(128, (3, 3), activation='elu', padding='same', use_bias=True))\n",
        "model.add(BatchNormalization())\n",
        "model.add(MaxPooling2D((2, 2)))\n",
        "model.add(Dropout(0.35))\n",
        "\n",
        "model.add(Conv2D(128, (3, 3), activation='elu', padding='same', use_bias=True))\n",
        "# model.add(BatchNormalization())\n",
        "model.add(Conv2D(256, (3, 3), activation='elu', padding='same', use_bias=True))\n",
        "model.add(BatchNormalization())\n",
        "model.add(MaxPooling2D((2, 2)))\n",
        "model.add(Dropout(0.35))\n",
        "\n",
        "model.add(Conv2D(512, (3, 3), activation='elu', padding='same', use_bias=True))\n",
        "# model.add(BatchNormalization())\n",
        "model.add(Conv2D(512, (3, 3), activation='elu', padding='same', use_bias=True))\n",
        "model.add(BatchNormalization())\n",
        "model.add(MaxPooling2D((2, 2)))\n",
        "model.add(Dropout(0.40))\n",
        "\n",
        "model.add(Flatten())\n",
        "\n",
        "model.add(Dense(512, activation='elu'))\n",
        "model.add(BatchNormalization())\n",
        "model.add(Dropout(0.5))\n",
        "\n",
        "model.add(Dense(38, activation='softmax'))\n",
        "\n",
        "model.summary()"
      ],
      "execution_count": 54,
      "outputs": [
        {
          "output_type": "stream",
          "text": [
            "Model: \"sequential_3\"\n",
            "_________________________________________________________________\n",
            "Layer (type)                 Output Shape              Param #   \n",
            "=================================================================\n",
            "conv2d_24 (Conv2D)           (None, 32, 32, 32)        896       \n",
            "_________________________________________________________________\n",
            "conv2d_25 (Conv2D)           (None, 32, 32, 64)        18496     \n",
            "_________________________________________________________________\n",
            "batch_normalization_15 (Batc (None, 32, 32, 64)        256       \n",
            "_________________________________________________________________\n",
            "max_pooling2d_12 (MaxPooling (None, 16, 16, 64)        0         \n",
            "_________________________________________________________________\n",
            "dropout_15 (Dropout)         (None, 16, 16, 64)        0         \n",
            "_________________________________________________________________\n",
            "conv2d_26 (Conv2D)           (None, 16, 16, 64)        36928     \n",
            "_________________________________________________________________\n",
            "conv2d_27 (Conv2D)           (None, 16, 16, 128)       73856     \n",
            "_________________________________________________________________\n",
            "batch_normalization_16 (Batc (None, 16, 16, 128)       512       \n",
            "_________________________________________________________________\n",
            "max_pooling2d_13 (MaxPooling (None, 8, 8, 128)         0         \n",
            "_________________________________________________________________\n",
            "dropout_16 (Dropout)         (None, 8, 8, 128)         0         \n",
            "_________________________________________________________________\n",
            "conv2d_28 (Conv2D)           (None, 8, 8, 128)         147584    \n",
            "_________________________________________________________________\n",
            "conv2d_29 (Conv2D)           (None, 8, 8, 256)         295168    \n",
            "_________________________________________________________________\n",
            "batch_normalization_17 (Batc (None, 8, 8, 256)         1024      \n",
            "_________________________________________________________________\n",
            "max_pooling2d_14 (MaxPooling (None, 4, 4, 256)         0         \n",
            "_________________________________________________________________\n",
            "dropout_17 (Dropout)         (None, 4, 4, 256)         0         \n",
            "_________________________________________________________________\n",
            "conv2d_30 (Conv2D)           (None, 4, 4, 512)         1180160   \n",
            "_________________________________________________________________\n",
            "conv2d_31 (Conv2D)           (None, 4, 4, 512)         2359808   \n",
            "_________________________________________________________________\n",
            "batch_normalization_18 (Batc (None, 4, 4, 512)         2048      \n",
            "_________________________________________________________________\n",
            "max_pooling2d_15 (MaxPooling (None, 2, 2, 512)         0         \n",
            "_________________________________________________________________\n",
            "dropout_18 (Dropout)         (None, 2, 2, 512)         0         \n",
            "_________________________________________________________________\n",
            "flatten_3 (Flatten)          (None, 2048)              0         \n",
            "_________________________________________________________________\n",
            "dense_6 (Dense)              (None, 512)               1049088   \n",
            "_________________________________________________________________\n",
            "batch_normalization_19 (Batc (None, 512)               2048      \n",
            "_________________________________________________________________\n",
            "dropout_19 (Dropout)         (None, 512)               0         \n",
            "_________________________________________________________________\n",
            "dense_7 (Dense)              (None, 38)                19494     \n",
            "=================================================================\n",
            "Total params: 5,187,366\n",
            "Trainable params: 5,184,422\n",
            "Non-trainable params: 2,944\n",
            "_________________________________________________________________\n"
          ],
          "name": "stdout"
        }
      ]
    },
    {
      "cell_type": "code",
      "metadata": {
        "id": "ZqEsmf3rilwX",
        "colab_type": "code",
        "colab": {}
      },
      "source": [
        "model.compile(optimizer='adam', loss='categorical_crossentropy', metrics=['mae', 'accuracy'])"
      ],
      "execution_count": 0,
      "outputs": []
    },
    {
      "cell_type": "code",
      "metadata": {
        "id": "nSYwVmhqjOIT",
        "colab_type": "code",
        "colab": {}
      },
      "source": [
        "epochs = 50\n",
        "batch_size = 128\n",
        "import tensorflow as tf\n",
        "callbacks = [tf.keras.callbacks.ReduceLROnPlateau(monitor='val_loss', factor=0.2, patience=5, mode='auto', min_lr=1e-5)]"
      ],
      "execution_count": 0,
      "outputs": []
    },
    {
      "cell_type": "markdown",
      "metadata": {
        "id": "bgiP_b2B8mtn",
        "colab_type": "text"
      },
      "source": [
        "Train the model"
      ]
    },
    {
      "cell_type": "code",
      "metadata": {
        "id": "WUqnCV9djPFU",
        "colab_type": "code",
        "colab": {
          "base_uri": "https://localhost:8080/",
          "height": 1000
        },
        "outputId": "ab491035-1812-495a-958c-5f73e876a8d9"
      },
      "source": [
        "history = model.fit(aug.flow(x_train, y_train, batch_size=batch_size), callbacks=callbacks, epochs=epochs, steps_per_epoch=len(x_train) // batch_size, validation_data=(x_val, y_val))"
      ],
      "execution_count": 57,
      "outputs": [
        {
          "output_type": "stream",
          "text": [
            "Epoch 1/50\n",
            "271/271 [==============================] - 18s 67ms/step - loss: 1.8644 - mae: 0.0309 - accuracy: 0.4979 - val_loss: 14.5184 - val_mae: 0.0505 - val_accuracy: 0.0360 - lr: 0.0010\n",
            "Epoch 2/50\n",
            "271/271 [==============================] - 18s 67ms/step - loss: 0.9709 - mae: 0.0201 - accuracy: 0.7049 - val_loss: 1.8390 - val_mae: 0.0235 - val_accuracy: 0.5820 - lr: 0.0010\n",
            "Epoch 3/50\n",
            "271/271 [==============================] - 18s 66ms/step - loss: 0.6819 - mae: 0.0152 - accuracy: 0.7843 - val_loss: 1.6314 - val_mae: 0.0222 - val_accuracy: 0.6044 - lr: 0.0010\n",
            "Epoch 4/50\n",
            "271/271 [==============================] - 18s 67ms/step - loss: 0.5227 - mae: 0.0121 - accuracy: 0.8340 - val_loss: 0.6393 - val_mae: 0.0128 - val_accuracy: 0.7996 - lr: 0.0010\n",
            "Epoch 5/50\n",
            "271/271 [==============================] - 18s 66ms/step - loss: 0.4297 - mae: 0.0102 - accuracy: 0.8624 - val_loss: 0.8597 - val_mae: 0.0152 - val_accuracy: 0.7559 - lr: 0.0010\n",
            "Epoch 6/50\n",
            "271/271 [==============================] - 18s 66ms/step - loss: 0.3683 - mae: 0.0089 - accuracy: 0.8799 - val_loss: 0.2753 - val_mae: 0.0060 - val_accuracy: 0.9122 - lr: 0.0010\n",
            "Epoch 7/50\n",
            "271/271 [==============================] - 18s 66ms/step - loss: 0.3164 - mae: 0.0077 - accuracy: 0.8957 - val_loss: 0.3516 - val_mae: 0.0079 - val_accuracy: 0.8766 - lr: 0.0010\n",
            "Epoch 8/50\n",
            "271/271 [==============================] - 18s 66ms/step - loss: 0.2802 - mae: 0.0068 - accuracy: 0.9094 - val_loss: 0.4064 - val_mae: 0.0078 - val_accuracy: 0.8777 - lr: 0.0010\n",
            "Epoch 9/50\n",
            "271/271 [==============================] - 18s 67ms/step - loss: 0.2502 - mae: 0.0062 - accuracy: 0.9174 - val_loss: 1.4865 - val_mae: 0.0182 - val_accuracy: 0.6749 - lr: 0.0010\n",
            "Epoch 10/50\n",
            "271/271 [==============================] - 18s 66ms/step - loss: 0.2430 - mae: 0.0059 - accuracy: 0.9204 - val_loss: 0.4005 - val_mae: 0.0084 - val_accuracy: 0.8707 - lr: 0.0010\n",
            "Epoch 11/50\n",
            "271/271 [==============================] - 18s 66ms/step - loss: 0.2113 - mae: 0.0053 - accuracy: 0.9293 - val_loss: 0.1909 - val_mae: 0.0043 - val_accuracy: 0.9363 - lr: 0.0010\n",
            "Epoch 12/50\n",
            "271/271 [==============================] - 18s 67ms/step - loss: 0.2087 - mae: 0.0051 - accuracy: 0.9316 - val_loss: 0.4266 - val_mae: 0.0078 - val_accuracy: 0.8746 - lr: 0.0010\n",
            "Epoch 13/50\n",
            "271/271 [==============================] - 18s 67ms/step - loss: 0.1839 - mae: 0.0046 - accuracy: 0.9386 - val_loss: 0.6366 - val_mae: 0.0105 - val_accuracy: 0.8205 - lr: 0.0010\n",
            "Epoch 14/50\n",
            "271/271 [==============================] - 18s 67ms/step - loss: 0.1768 - mae: 0.0044 - accuracy: 0.9412 - val_loss: 0.7267 - val_mae: 0.0110 - val_accuracy: 0.8077 - lr: 0.0010\n",
            "Epoch 15/50\n",
            "271/271 [==============================] - 18s 68ms/step - loss: 0.1730 - mae: 0.0043 - accuracy: 0.9430 - val_loss: 0.4569 - val_mae: 0.0089 - val_accuracy: 0.8576 - lr: 0.0010\n",
            "Epoch 16/50\n",
            "271/271 [==============================] - 18s 67ms/step - loss: 0.1579 - mae: 0.0040 - accuracy: 0.9467 - val_loss: 0.9522 - val_mae: 0.0127 - val_accuracy: 0.7764 - lr: 0.0010\n",
            "Epoch 17/50\n",
            "271/271 [==============================] - 18s 67ms/step - loss: 0.0986 - mae: 0.0027 - accuracy: 0.9677 - val_loss: 0.0965 - val_mae: 0.0023 - val_accuracy: 0.9672 - lr: 2.0000e-04\n",
            "Epoch 18/50\n",
            "271/271 [==============================] - 18s 66ms/step - loss: 0.0813 - mae: 0.0023 - accuracy: 0.9734 - val_loss: 0.0685 - val_mae: 0.0017 - val_accuracy: 0.9756 - lr: 2.0000e-04\n",
            "Epoch 19/50\n",
            "271/271 [==============================] - 18s 66ms/step - loss: 0.0727 - mae: 0.0021 - accuracy: 0.9757 - val_loss: 0.1060 - val_mae: 0.0024 - val_accuracy: 0.9643 - lr: 2.0000e-04\n",
            "Epoch 20/50\n",
            "271/271 [==============================] - 18s 66ms/step - loss: 0.0711 - mae: 0.0020 - accuracy: 0.9767 - val_loss: 0.1008 - val_mae: 0.0023 - val_accuracy: 0.9662 - lr: 2.0000e-04\n",
            "Epoch 21/50\n",
            "271/271 [==============================] - 18s 67ms/step - loss: 0.0662 - mae: 0.0019 - accuracy: 0.9778 - val_loss: 0.0924 - val_mae: 0.0021 - val_accuracy: 0.9692 - lr: 2.0000e-04\n",
            "Epoch 22/50\n",
            "271/271 [==============================] - 18s 67ms/step - loss: 0.0664 - mae: 0.0019 - accuracy: 0.9779 - val_loss: 0.1560 - val_mae: 0.0030 - val_accuracy: 0.9507 - lr: 2.0000e-04\n",
            "Epoch 23/50\n",
            "271/271 [==============================] - 18s 66ms/step - loss: 0.0627 - mae: 0.0018 - accuracy: 0.9783 - val_loss: 0.2440 - val_mae: 0.0043 - val_accuracy: 0.9318 - lr: 2.0000e-04\n",
            "Epoch 24/50\n",
            "271/271 [==============================] - 18s 66ms/step - loss: 0.0569 - mae: 0.0016 - accuracy: 0.9811 - val_loss: 0.0765 - val_mae: 0.0017 - val_accuracy: 0.9758 - lr: 4.0000e-05\n",
            "Epoch 25/50\n",
            "271/271 [==============================] - 18s 67ms/step - loss: 0.0521 - mae: 0.0015 - accuracy: 0.9834 - val_loss: 0.1199 - val_mae: 0.0025 - val_accuracy: 0.9610 - lr: 4.0000e-05\n",
            "Epoch 26/50\n",
            "271/271 [==============================] - 18s 67ms/step - loss: 0.0503 - mae: 0.0015 - accuracy: 0.9831 - val_loss: 0.0902 - val_mae: 0.0019 - val_accuracy: 0.9711 - lr: 4.0000e-05\n",
            "Epoch 27/50\n",
            "271/271 [==============================] - 18s 65ms/step - loss: 0.0495 - mae: 0.0014 - accuracy: 0.9834 - val_loss: 0.0855 - val_mae: 0.0019 - val_accuracy: 0.9731 - lr: 4.0000e-05\n",
            "Epoch 28/50\n",
            "271/271 [==============================] - 18s 66ms/step - loss: 0.0464 - mae: 0.0014 - accuracy: 0.9848 - val_loss: 0.0773 - val_mae: 0.0017 - val_accuracy: 0.9729 - lr: 4.0000e-05\n",
            "Epoch 29/50\n",
            "271/271 [==============================] - 18s 66ms/step - loss: 0.0467 - mae: 0.0014 - accuracy: 0.9844 - val_loss: 0.0674 - val_mae: 0.0015 - val_accuracy: 0.9776 - lr: 1.0000e-05\n",
            "Epoch 30/50\n",
            "271/271 [==============================] - 18s 67ms/step - loss: 0.0461 - mae: 0.0014 - accuracy: 0.9849 - val_loss: 0.0718 - val_mae: 0.0016 - val_accuracy: 0.9756 - lr: 1.0000e-05\n",
            "Epoch 31/50\n",
            "271/271 [==============================] - 18s 67ms/step - loss: 0.0463 - mae: 0.0014 - accuracy: 0.9844 - val_loss: 0.0688 - val_mae: 0.0016 - val_accuracy: 0.9773 - lr: 1.0000e-05\n",
            "Epoch 32/50\n",
            "271/271 [==============================] - 18s 67ms/step - loss: 0.0477 - mae: 0.0014 - accuracy: 0.9837 - val_loss: 0.0731 - val_mae: 0.0016 - val_accuracy: 0.9765 - lr: 1.0000e-05\n",
            "Epoch 33/50\n",
            "271/271 [==============================] - 18s 67ms/step - loss: 0.0440 - mae: 0.0013 - accuracy: 0.9850 - val_loss: 0.0714 - val_mae: 0.0016 - val_accuracy: 0.9767 - lr: 1.0000e-05\n",
            "Epoch 34/50\n",
            "271/271 [==============================] - 18s 67ms/step - loss: 0.0447 - mae: 0.0013 - accuracy: 0.9854 - val_loss: 0.0667 - val_mae: 0.0015 - val_accuracy: 0.9781 - lr: 1.0000e-05\n",
            "Epoch 35/50\n",
            "271/271 [==============================] - 18s 67ms/step - loss: 0.0446 - mae: 0.0014 - accuracy: 0.9839 - val_loss: 0.0643 - val_mae: 0.0015 - val_accuracy: 0.9784 - lr: 1.0000e-05\n",
            "Epoch 36/50\n",
            "271/271 [==============================] - 18s 66ms/step - loss: 0.0441 - mae: 0.0013 - accuracy: 0.9854 - val_loss: 0.0712 - val_mae: 0.0016 - val_accuracy: 0.9772 - lr: 1.0000e-05\n",
            "Epoch 37/50\n",
            "271/271 [==============================] - 18s 66ms/step - loss: 0.0424 - mae: 0.0013 - accuracy: 0.9859 - val_loss: 0.0671 - val_mae: 0.0015 - val_accuracy: 0.9779 - lr: 1.0000e-05\n",
            "Epoch 38/50\n",
            "271/271 [==============================] - 18s 67ms/step - loss: 0.0463 - mae: 0.0013 - accuracy: 0.9846 - val_loss: 0.0635 - val_mae: 0.0014 - val_accuracy: 0.9794 - lr: 1.0000e-05\n",
            "Epoch 39/50\n",
            "271/271 [==============================] - 18s 67ms/step - loss: 0.0423 - mae: 0.0013 - accuracy: 0.9864 - val_loss: 0.0683 - val_mae: 0.0015 - val_accuracy: 0.9781 - lr: 1.0000e-05\n",
            "Epoch 40/50\n",
            "271/271 [==============================] - 18s 67ms/step - loss: 0.0422 - mae: 0.0013 - accuracy: 0.9856 - val_loss: 0.0646 - val_mae: 0.0015 - val_accuracy: 0.9788 - lr: 1.0000e-05\n",
            "Epoch 41/50\n",
            "271/271 [==============================] - 18s 67ms/step - loss: 0.0416 - mae: 0.0013 - accuracy: 0.9863 - val_loss: 0.0653 - val_mae: 0.0015 - val_accuracy: 0.9781 - lr: 1.0000e-05\n",
            "Epoch 42/50\n",
            "271/271 [==============================] - 18s 67ms/step - loss: 0.0449 - mae: 0.0013 - accuracy: 0.9848 - val_loss: 0.0622 - val_mae: 0.0014 - val_accuracy: 0.9799 - lr: 1.0000e-05\n",
            "Epoch 43/50\n",
            "271/271 [==============================] - 18s 68ms/step - loss: 0.0403 - mae: 0.0013 - accuracy: 0.9864 - val_loss: 0.0627 - val_mae: 0.0014 - val_accuracy: 0.9803 - lr: 1.0000e-05\n",
            "Epoch 44/50\n",
            "271/271 [==============================] - 18s 67ms/step - loss: 0.0425 - mae: 0.0013 - accuracy: 0.9858 - val_loss: 0.0653 - val_mae: 0.0015 - val_accuracy: 0.9787 - lr: 1.0000e-05\n",
            "Epoch 45/50\n",
            "271/271 [==============================] - 18s 66ms/step - loss: 0.0438 - mae: 0.0013 - accuracy: 0.9853 - val_loss: 0.0632 - val_mae: 0.0014 - val_accuracy: 0.9796 - lr: 1.0000e-05\n",
            "Epoch 46/50\n",
            "271/271 [==============================] - 18s 66ms/step - loss: 0.0428 - mae: 0.0013 - accuracy: 0.9852 - val_loss: 0.0621 - val_mae: 0.0014 - val_accuracy: 0.9798 - lr: 1.0000e-05\n",
            "Epoch 47/50\n",
            "271/271 [==============================] - 18s 66ms/step - loss: 0.0411 - mae: 0.0012 - accuracy: 0.9862 - val_loss: 0.0636 - val_mae: 0.0014 - val_accuracy: 0.9786 - lr: 1.0000e-05\n",
            "Epoch 48/50\n",
            "271/271 [==============================] - 18s 66ms/step - loss: 0.0438 - mae: 0.0013 - accuracy: 0.9852 - val_loss: 0.0624 - val_mae: 0.0014 - val_accuracy: 0.9790 - lr: 1.0000e-05\n",
            "Epoch 49/50\n",
            "271/271 [==============================] - 18s 68ms/step - loss: 0.0406 - mae: 0.0012 - accuracy: 0.9861 - val_loss: 0.0673 - val_mae: 0.0015 - val_accuracy: 0.9784 - lr: 1.0000e-05\n",
            "Epoch 50/50\n",
            "271/271 [==============================] - 18s 67ms/step - loss: 0.0429 - mae: 0.0013 - accuracy: 0.9858 - val_loss: 0.0654 - val_mae: 0.0014 - val_accuracy: 0.9795 - lr: 1.0000e-05\n"
          ],
          "name": "stdout"
        }
      ]
    },
    {
      "cell_type": "code",
      "metadata": {
        "id": "EcjGV97jjSyc",
        "colab_type": "code",
        "colab": {
          "base_uri": "https://localhost:8080/",
          "height": 563
        },
        "outputId": "ed4def79-2a49-4eac-840f-e368b0db68b0"
      },
      "source": [
        "import matplotlib.pyplot as plt\n",
        "\n",
        "acc = history.history['accuracy']\n",
        "val_acc = history.history['val_accuracy']\n",
        "loss = history.history['loss']\n",
        "val_loss = history.history['val_loss']\n",
        "\n",
        "epochs = range(len(acc))\n",
        "\n",
        "# Plot retrieved data\n",
        "plt.plot(epochs, acc)\n",
        "plt.plot(epochs, val_acc)\n",
        "plt.title(\"Training and Validation Accuracy\")\n",
        "\n",
        "plt.figure()\n",
        "\n",
        "plt.plot(epochs, loss)\n",
        "plt.plot(epochs, val_loss)\n",
        "plt.title(\"Training and Validaiton loss per epoch\")\n",
        "\n",
        "# From the plots it can be seen that the model performs with an accuracy close to 1 and has next to 0 bias\n",
        "# and almost 0 variance as well, which means it has regularized well."
      ],
      "execution_count": 58,
      "outputs": [
        {
          "output_type": "execute_result",
          "data": {
            "text/plain": [
              "Text(0.5, 1.0, 'Training and Validaiton loss per epoch')"
            ]
          },
          "metadata": {
            "tags": []
          },
          "execution_count": 58
        },
        {
          "output_type": "display_data",
          "data": {
            "image/png": "[encoded data removed]",
            "text/plain": [
              "<Figure size 432x288 with 1 Axes>"
            ]
          },
          "metadata": {
            "tags": [],
            "needs_background": "light"
          }
        },
        {
          "output_type": "display_data",
          "data": {
            "image/png": "[encoded data removed]",
            "text/plain": [
              "<Figure size 432x288 with 1 Axes>"
            ]
          },
          "metadata": {
            "tags": [],
            "needs_background": "light"
          }
        }
      ]
    },
    {
      "cell_type": "code",
      "metadata": {
        "id": "jhKq-7lJ1tqX",
        "colab_type": "code",
        "colab": {
          "base_uri": "https://localhost:8080/",
          "height": 72
        },
        "outputId": "8e1d6bd4-51eb-4734-be13-0393a025aa91"
      },
      "source": [
        "# Print out the best 5 metrics\n",
        "from statistics import mean\n",
        "val_acc.sort()\n",
        "val_loss.sort()\n",
        "val_mae = history.history['val_mae']\n",
        "val_mae.sort()\n",
        "print(\"Top 5 validation loss: \", mean(val_loss[:5]))\n",
        "print(\"Top 5 validation mean absolute error: \", mean(val_mae[:5]))\n",
        "print(\"Top 5 validation accuracy: \", mean(val_acc[-4:]))"
      ],
      "execution_count": 59,
      "outputs": [
        {
          "output_type": "stream",
          "text": [
            "Top 5 validation loss:  0.06252917870879174\n",
            "Top 5 validation mean absolute error:  0.001421006815508008\n",
            "Top 5 validation accuracy:  0.9798999279737473\n"
          ],
          "name": "stdout"
        }
      ]
    },
    {
      "cell_type": "markdown",
      "metadata": {
        "id": "QyszSHPS7nNW",
        "colab_type": "text"
      },
      "source": [
        "Check performance on validation set using the f1-score metric"
      ]
    },
    {
      "cell_type": "code",
      "metadata": {
        "id": "pMgnA87hkiRM",
        "colab_type": "code",
        "colab": {}
      },
      "source": [
        "# Get the model predictions on the val set\n",
        "predictions_on_val_set = model.predict(x_val)"
      ],
      "execution_count": 0,
      "outputs": []
    },
    {
      "cell_type": "code",
      "metadata": {
        "id": "8yYmAUF_2Qlr",
        "colab_type": "code",
        "colab": {}
      },
      "source": [
        "# Convert one-hot vectors to integer labels\n",
        "val_set_answer = np.argmax(predictions_on_val_set, axis=1)\n",
        "y_val = np.argmax(y_val, axis=1)"
      ],
      "execution_count": 0,
      "outputs": []
    },
    {
      "cell_type": "code",
      "metadata": {
        "id": "TIMQ1eFtl5BF",
        "colab_type": "code",
        "colab": {
          "base_uri": "https://localhost:8080/",
          "height": 284
        },
        "outputId": "ded58888-a542-4735-c5cc-64dd1908a7f9"
      },
      "source": [
        "# Check one such prediction visually\n",
        "plt.imshow(x_val[0])\n",
        "plt.show()\n",
        "print(val_set_answer[0])"
      ],
      "execution_count": 84,
      "outputs": [
        {
          "output_type": "display_data",
          "data": {
            "image/png": "[encoded data removed]",
            "text/plain": [
              "<Figure size 432x288 with 1 Axes>"
            ]
          },
          "metadata": {
            "tags": [],
            "needs_background": "light"
          }
        },
        {
          "output_type": "stream",
          "text": [
            "9\n"
          ],
          "name": "stdout"
        }
      ]
    },
    {
      "cell_type": "code",
      "metadata": {
        "id": "T182avvxna_1",
        "colab_type": "code",
        "colab": {
          "base_uri": "https://localhost:8080/",
          "height": 35
        },
        "outputId": "8d6395f2-1848-4a71-8030-954880adc1ec"
      },
      "source": [
        "from sklearn.metrics import f1_score\n",
        "f1 = f1_score(y_val,val_set_answer,average='macro')\n",
        "print(f1)\n",
        "\n",
        "# f1-score turns out to be 0.9734730259091124, hence the model performs reasonably well on out-sample data"
      ],
      "execution_count": 86,
      "outputs": [
        {
          "output_type": "stream",
          "text": [
            "0.9734730259091124\n"
          ],
          "name": "stdout"
        }
      ]
    },
    {
      "cell_type": "markdown",
      "metadata": {
        "id": "UI0UTbUG9GnW",
        "colab_type": "text"
      },
      "source": [
        "Predictions on the test set(evaluation set for the competition)"
      ]
    },
    {
      "cell_type": "code",
      "metadata": {
        "id": "ZNcnT1Gu6jhK",
        "colab_type": "code",
        "colab": {
          "base_uri": "https://localhost:8080/",
          "height": 284
        },
        "outputId": "d02940af-5ad4-4337-bc16-7d0b78c46e40"
      },
      "source": [
        "# Normalize the pixel values before predictions\n",
        "test_images = test_images.astype(np.float32)/255.0\n",
        "\n",
        "# Get the prediction\n",
        "submission_one_hot = model.predict(test_images)\n",
        "\n",
        "# Convert one-hot vectors to integer labels\n",
        "submission = np.argmax(submission_one_hot, axis=1)"
      ],
      "execution_count": 87,
      "outputs": [
        {
          "output_type": "display_data",
          "data": {
            "image/png": "[encoded data removed]",
            "text/plain": [
              "<Figure size 432x288 with 1 Axes>"
            ]
          },
          "metadata": {
            "tags": [],
            "needs_background": "light"
          }
        },
        {
          "output_type": "stream",
          "text": [
            "37\n"
          ],
          "name": "stdout"
        }
      ]
    },
    {
      "cell_type": "markdown",
      "metadata": {
        "id": "ODaC4_Xo_LrC",
        "colab_type": "text"
      },
      "source": [
        "Save predictions to csv file"
      ]
    },
    {
      "cell_type": "code",
      "metadata": {
        "id": "61_1w6v3-AZU",
        "colab_type": "code",
        "colab": {}
      },
      "source": [
        "submission = pd.DataFrame(submission)\n",
        "submission.to_csv('submission.csv',header=['class_index'],index=False)"
      ],
      "execution_count": 0,
      "outputs": []
    },
    {
      "cell_type": "markdown",
      "metadata": {
        "id": "pMUkyFGT_aHw",
        "colab_type": "text"
      },
      "source": [
        "Download generated csv(only for google colab environment)"
      ]
    },
    {
      "cell_type": "code",
      "metadata": {
        "id": "z2TjHLqr_etm",
        "colab_type": "code",
        "colab": {}
      },
      "source": [
        "from google.colab import files\n",
        "files.download('submission.csv')"
      ],
      "execution_count": 0,
      "outputs": []
    }
  ]
}